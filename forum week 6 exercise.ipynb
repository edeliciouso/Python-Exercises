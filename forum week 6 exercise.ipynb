{
 "cells": [
  {
   "cell_type": "code",
   "execution_count": 68,
   "id": "b74dca28",
   "metadata": {},
   "outputs": [
    {
     "name": "stdout",
     "output_type": "stream",
     "text": [
      "['bedroll', 'bread loaf', 'dagger', 'xylophone']\n",
      "['bedroll', 'bread loaf', 'xylophone']\n",
      "550\n"
     ]
    }
   ],
   "source": [
    "#exercise 1\n",
    "\n",
    "inventory = {\n",
    " 'gold' : 500,\n",
    " 'pouch' : ['flint', 'twine', 'gemstone'],\n",
    " 'backpack' : ['xylophone','dagger', 'bedroll','bread loaf'],\n",
    "    'pocket' : ['seashell', 'strange berry','lint']\n",
    "}\n",
    "\n",
    "inventory[\"backpack\"].sort()\n",
    "print(inventory[\"backpack\"])\n",
    "\n",
    "inventory[\"backpack\"].remove(\"dagger\")\n",
    "print(inventory[\"backpack\"])\n",
    "\n",
    "inventory[\"gold\"] += 50\n",
    "print(inventory[\"gold\"])"
   ]
  },
  {
   "cell_type": "code",
   "execution_count": 23,
   "id": "8926dccb",
   "metadata": {},
   "outputs": [
    {
     "name": "stdout",
     "output_type": "stream",
     "text": [
      "banana\n",
      "price:4\n",
      "stock:6\n",
      "apple\n",
      "price:2\n",
      "stock:0\n",
      "orange\n",
      "price:1.5\n",
      "stock:32\n",
      "pear\n",
      "price:3\n",
      "stock:15\n",
      "117.0\n"
     ]
    }
   ],
   "source": [
    "#exercise 2\n",
    "\n",
    "prices = {\n",
    "    \"banana\": 4,\n",
    "    \"apple\": 2,\n",
    "    \"orange\": 1.5,\n",
    "    \"pear\": 3\n",
    "}\n",
    "stock = {\n",
    "    \"banana\": 6,\n",
    "    \"apple\": 0,\n",
    "    \"orange\": 32,\n",
    "    \"pear\": 15\n",
    "}\n",
    "\n",
    "for i in prices:\n",
    "    print(i)\n",
    "    print(\"price:\" + str(prices[i]))\n",
    "    print(\"stock:\" + str(stock[i]))\n",
    "    \n",
    "total = 0\n",
    "for i in prices:\n",
    "    total += prices[i] * stock[i]\n",
    "print(total)"
   ]
  },
  {
   "cell_type": "code",
   "execution_count": 64,
   "id": "4db47da2",
   "metadata": {},
   "outputs": [
    {
     "data": {
      "text/plain": [
       "8.5"
      ]
     },
     "execution_count": 64,
     "metadata": {},
     "output_type": "execute_result"
    }
   ],
   "source": [
    "#exercise 3\n",
    "\n",
    "groceries = [\"banana\", \"orange\", \"apple\", \"pear\"]\n",
    "\n",
    "stock = {\n",
    " \"banana\": 6,\n",
    " \"apple\": 0,\n",
    " \"orange\": 32,\n",
    " \"pear\": 15\n",
    "}\n",
    "\n",
    "prices = {\n",
    " \"banana\": 4,\n",
    " \"apple\": 2,\n",
    " \"orange\": 1.5,\n",
    " \"pear\": 3\n",
    "}\n",
    "\n",
    "def compute_bill(food):\n",
    "    total = 0\n",
    "    for i in food:\n",
    "        if stock[i] > 0:\n",
    "            total += prices[i]\n",
    "            stock[i] -= 1\n",
    "    return total\n",
    "\n",
    "compute_bill(groceries)"
   ]
  },
  {
   "cell_type": "code",
   "execution_count": 20,
   "id": "a5e37bf1",
   "metadata": {},
   "outputs": [
    {
     "name": "stdout",
     "output_type": "stream",
     "text": [
      "{'name': 'Eren', 'homework': [90.0, 97.0, 75.0, 92.0], 'quizzes': [88.0, 40.0, 94.0], 'tests': [75.0, 90.0]}\n",
      "{'name': 'Mikasa', 'homework': [100.0, 92.0, 98.0, 100.0], 'quizzes': [82.0, 83.0, 91.0], 'tests': [89.0, 97.0]}\n",
      "{'name': 'Armin', 'homework': [0.0, 87.0, 75.0, 22.0], 'quizzes': [0.0, 75.0, 78.0], 'tests': [100.0, 100.0]}\n",
      "Eren's grade: B\n",
      "Mikasa's grade: A\n",
      "Armin's grade: C\n",
      "83.86666666666666\n",
      "B\n"
     ]
    }
   ],
   "source": [
    "#exercise 4\n",
    "\n",
    "eren = {\n",
    " \"name\": \"Eren\",\n",
    " \"homework\": [90.0,97.0,75.0,92.0],\n",
    " \"quizzes\": [88.0,40.0,94.0],\n",
    " \"tests\": [75.0,90.0]\n",
    "}\n",
    "\n",
    "mikasa = {\n",
    "\"name\": \"Mikasa\",\n",
    "\"homework\": [100.0, 92.0, 98.0, 100.0],\n",
    "\"quizzes\": [82.0, 83.0, 91.0],\n",
    "\"tests\": [89.0, 97.0]\n",
    "}\n",
    "\n",
    "armin = {\n",
    "\"name\": \"Armin\",\n",
    "\"homework\": [0.0, 87.0, 75.0, 22.0],\n",
    "\"quizzes\": [0.0, 75.0, 78.0],\n",
    "\"tests\": [100.0, 100.0]\n",
    "}\n",
    "\n",
    "students = [eren, mikasa, armin]\n",
    "print(eren)\n",
    "print(mikasa)\n",
    "print(armin)\n",
    "\n",
    "def average(numbers):\n",
    "    total = float(sum(numbers)) / len(numbers)\n",
    "    return total\n",
    "\n",
    "def get_average(student):\n",
    "    homework = average(student[\"homework\"])\n",
    "    quizzes = average(student[\"quizzes\"])\n",
    "    tests = average(student[\"tests\"])\n",
    "    return (homework*(10/100)) + (quizzes*(30/100)) + (tests*(60/100))\n",
    "\n",
    "def get_letter_grade(score):\n",
    "    if score >= 90:\n",
    "        return \"A\"\n",
    "    elif score >= 80:\n",
    "        return \"B\"\n",
    "    elif score >= 70:\n",
    "        return \"C\"\n",
    "    elif score >= 60:\n",
    "        return \"D\"\n",
    "    else:\n",
    "        return \"F\"\n",
    "    \n",
    "print(\"Eren's grade:\", get_letter_grade(get_average(eren)))\n",
    "print(\"Mikasa's grade:\", get_letter_grade(get_average(mikasa)))\n",
    "print(\"Armin's grade:\", get_letter_grade(get_average(armin)))\n",
    "\n",
    "def get_class_average(students):\n",
    "    results = []\n",
    "    for i in students:\n",
    "        all = get_average(i)\n",
    "        results.append(all)\n",
    "    return average(results)\n",
    "\n",
    "\n",
    "print(get_class_average(students))\n",
    "print(get_letter_grade(get_class_average(students)))"
   ]
  },
  {
   "cell_type": "code",
   "execution_count": null,
   "id": "1409191a",
   "metadata": {},
   "outputs": [],
   "source": []
  }
 ],
 "metadata": {
  "kernelspec": {
   "display_name": "Python 3 (ipykernel)",
   "language": "python",
   "name": "python3"
  },
  "language_info": {
   "codemirror_mode": {
    "name": "ipython",
    "version": 3
   },
   "file_extension": ".py",
   "mimetype": "text/x-python",
   "name": "python",
   "nbconvert_exporter": "python",
   "pygments_lexer": "ipython3",
   "version": "3.10.7"
  }
 },
 "nbformat": 4,
 "nbformat_minor": 5
}
